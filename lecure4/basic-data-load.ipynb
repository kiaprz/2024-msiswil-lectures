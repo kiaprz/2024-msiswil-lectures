{
 "cells": [
  {
   "cell_type": "code",
   "execution_count": 20,
   "metadata": {},
   "outputs": [],
   "source": [
    "import polars as pl"
   ]
  },
  {
   "cell_type": "code",
   "execution_count": 21,
   "metadata": {},
   "outputs": [],
   "source": [
    "dfTips = pl.read_csv(\"https://raw.githubusercontent.com/mwaskom/seaborn-data/refs/heads/master/tips.csv\")"
   ]
  },
  {
   "cell_type": "code",
   "execution_count": 22,
   "metadata": {},
   "outputs": [
    {
     "data": {
      "text/html": [
       "<div><style>\n",
       ".dataframe > thead > tr,\n",
       ".dataframe > tbody > tr {\n",
       "  text-align: right;\n",
       "  white-space: pre-wrap;\n",
       "}\n",
       "</style>\n",
       "<small>shape: (4, 7)</small><table border=\"1\" class=\"dataframe\"><thead><tr><th>day</th><th>total_bill</th><th>tip</th><th>sex</th><th>smoker</th><th>time</th><th>size</th></tr><tr><td>str</td><td>f64</td><td>f64</td><td>str</td><td>str</td><td>str</td><td>f64</td></tr></thead><tbody><tr><td>&quot;Fri&quot;</td><td>17.151579</td><td>2.734737</td><td>null</td><td>null</td><td>null</td><td>2.105263</td></tr><tr><td>&quot;Sat&quot;</td><td>20.441379</td><td>2.993103</td><td>null</td><td>null</td><td>null</td><td>2.517241</td></tr><tr><td>&quot;Sun&quot;</td><td>21.41</td><td>3.255132</td><td>null</td><td>null</td><td>null</td><td>2.842105</td></tr><tr><td>&quot;Thur&quot;</td><td>17.682742</td><td>2.771452</td><td>null</td><td>null</td><td>null</td><td>2.451613</td></tr></tbody></table></div>"
      ],
      "text/plain": [
       "shape: (4, 7)\n",
       "┌──────┬────────────┬──────────┬──────┬────────┬──────┬──────────┐\n",
       "│ day  ┆ total_bill ┆ tip      ┆ sex  ┆ smoker ┆ time ┆ size     │\n",
       "│ ---  ┆ ---        ┆ ---      ┆ ---  ┆ ---    ┆ ---  ┆ ---      │\n",
       "│ str  ┆ f64        ┆ f64      ┆ str  ┆ str    ┆ str  ┆ f64      │\n",
       "╞══════╪════════════╪══════════╪══════╪════════╪══════╪══════════╡\n",
       "│ Fri  ┆ 17.151579  ┆ 2.734737 ┆ null ┆ null   ┆ null ┆ 2.105263 │\n",
       "│ Sat  ┆ 20.441379  ┆ 2.993103 ┆ null ┆ null   ┆ null ┆ 2.517241 │\n",
       "│ Sun  ┆ 21.41      ┆ 3.255132 ┆ null ┆ null   ┆ null ┆ 2.842105 │\n",
       "│ Thur ┆ 17.682742  ┆ 2.771452 ┆ null ┆ null   ┆ null ┆ 2.451613 │\n",
       "└──────┴────────────┴──────────┴──────┴────────┴──────┴──────────┘"
      ]
     },
     "execution_count": 22,
     "metadata": {},
     "output_type": "execute_result"
    }
   ],
   "source": [
    "dfTipsMean = dfTips.group_by(pl.col(\"day\")).mean().sort(pl.col(\"day\"))\n",
    "dfTipsMean"
   ]
  },
  {
   "cell_type": "code",
   "execution_count": 23,
   "metadata": {},
   "outputs": [
    {
     "data": {
      "text/html": [
       "<div><style>\n",
       ".dataframe > thead > tr,\n",
       ".dataframe > tbody > tr {\n",
       "  text-align: right;\n",
       "  white-space: pre-wrap;\n",
       "}\n",
       "</style>\n",
       "<small>shape: (4, 7)</small><table border=\"1\" class=\"dataframe\"><thead><tr><th>day</th><th>total_bill</th><th>tip</th><th>sex</th><th>smoker</th><th>time</th><th>size</th></tr><tr><td>str</td><td>f64</td><td>f64</td><td>str</td><td>str</td><td>str</td><td>f64</td></tr></thead><tbody><tr><td>&quot;(4)&nbsp;Thur&quot;</td><td>17.682742</td><td>2.771452</td><td>null</td><td>null</td><td>null</td><td>2.451613</td></tr><tr><td>&quot;(5)&nbsp;Fri&quot;</td><td>17.151579</td><td>2.734737</td><td>null</td><td>null</td><td>null</td><td>2.105263</td></tr><tr><td>&quot;(6)&nbsp;Sat&quot;</td><td>20.441379</td><td>2.993103</td><td>null</td><td>null</td><td>null</td><td>2.517241</td></tr><tr><td>&quot;(7)&nbsp;Sun&quot;</td><td>21.41</td><td>3.255132</td><td>null</td><td>null</td><td>null</td><td>2.842105</td></tr></tbody></table></div>"
      ],
      "text/plain": [
       "shape: (4, 7)\n",
       "┌──────────┬────────────┬──────────┬──────┬────────┬──────┬──────────┐\n",
       "│ day      ┆ total_bill ┆ tip      ┆ sex  ┆ smoker ┆ time ┆ size     │\n",
       "│ ---      ┆ ---        ┆ ---      ┆ ---  ┆ ---    ┆ ---  ┆ ---      │\n",
       "│ str      ┆ f64        ┆ f64      ┆ str  ┆ str    ┆ str  ┆ f64      │\n",
       "╞══════════╪════════════╪══════════╪══════╪════════╪══════╪══════════╡\n",
       "│ (4) Thur ┆ 17.682742  ┆ 2.771452 ┆ null ┆ null   ┆ null ┆ 2.451613 │\n",
       "│ (5) Fri  ┆ 17.151579  ┆ 2.734737 ┆ null ┆ null   ┆ null ┆ 2.105263 │\n",
       "│ (6) Sat  ┆ 20.441379  ┆ 2.993103 ┆ null ┆ null   ┆ null ┆ 2.517241 │\n",
       "│ (7) Sun  ┆ 21.41      ┆ 3.255132 ┆ null ┆ null   ┆ null ┆ 2.842105 │\n",
       "└──────────┴────────────┴──────────┴──────┴────────┴──────┴──────────┘"
      ]
     },
     "execution_count": 23,
     "metadata": {},
     "output_type": "execute_result"
    }
   ],
   "source": [
    "dfTipsMean = dfTipsMean.with_columns(pl.col(\"day\")\n",
    "                        .replace({\"Fri\": \"(5) Fri\", \n",
    "                                  \"Sat\": \"(6) Sat\", \n",
    "                                  \"Sun\": \"(7) Sun\", \n",
    "                                  \"Thur\": \"(4) Thur\"})\n",
    "                        .alias(\"day\")).sort(pl.col(\"day\"))\n",
    "\n",
    "\n",
    "dfTipsMean"
   ]
  },
  {
   "cell_type": "code",
   "execution_count": 40,
   "metadata": {},
   "outputs": [
    {
     "data": {
      "text/plain": [
       "<Axes: xlabel='day', ylabel='tip'>"
      ]
     },
     "execution_count": 40,
     "metadata": {},
     "output_type": "execute_result"
    },
    {
     "data": {
      "image/png": "[encoded data removed]",
      "text/plain": [
       "<Figure size 640x480 with 1 Axes>"
      ]
     },
     "metadata": {},
     "output_type": "display_data"
    }
   ],
   "source": [
    "import seaborn as sns\n",
    "\n",
    "sns.lineplot(data=dfTipsMean.to_pandas(), x=\"day\", y=\"tip\", label=\"Tip\")\n",
    "sns.lineplot(data=dfTipsMean.to_pandas(), x=\"day\", y=\"total_bill\", label=\"Total bill\")"
   ]
  },
  {
   "cell_type": "code",
   "execution_count": 30,
   "metadata": {},
   "outputs": [
    {
     "data": {
      "text/html": [
       "<div><style>\n",
       ".dataframe > thead > tr,\n",
       ".dataframe > tbody > tr {\n",
       "  text-align: right;\n",
       "  white-space: pre-wrap;\n",
       "}\n",
       "</style>\n",
       "<small>shape: (9, 8)</small><table border=\"1\" class=\"dataframe\"><thead><tr><th>statistic</th><th>total_bill</th><th>tip</th><th>sex</th><th>smoker</th><th>day</th><th>time</th><th>size</th></tr><tr><td>str</td><td>f64</td><td>f64</td><td>str</td><td>str</td><td>str</td><td>str</td><td>f64</td></tr></thead><tbody><tr><td>&quot;count&quot;</td><td>244.0</td><td>244.0</td><td>&quot;244&quot;</td><td>&quot;244&quot;</td><td>&quot;244&quot;</td><td>&quot;244&quot;</td><td>244.0</td></tr><tr><td>&quot;null_count&quot;</td><td>0.0</td><td>0.0</td><td>&quot;0&quot;</td><td>&quot;0&quot;</td><td>&quot;0&quot;</td><td>&quot;0&quot;</td><td>0.0</td></tr><tr><td>&quot;mean&quot;</td><td>19.785943</td><td>2.998279</td><td>null</td><td>null</td><td>null</td><td>null</td><td>2.569672</td></tr><tr><td>&quot;std&quot;</td><td>8.902412</td><td>1.383638</td><td>null</td><td>null</td><td>null</td><td>null</td><td>0.9511</td></tr><tr><td>&quot;min&quot;</td><td>3.07</td><td>1.0</td><td>&quot;Female&quot;</td><td>&quot;No&quot;</td><td>&quot;Fri&quot;</td><td>&quot;Dinner&quot;</td><td>1.0</td></tr><tr><td>&quot;25%&quot;</td><td>13.37</td><td>2.0</td><td>null</td><td>null</td><td>null</td><td>null</td><td>2.0</td></tr><tr><td>&quot;50%&quot;</td><td>17.81</td><td>2.92</td><td>null</td><td>null</td><td>null</td><td>null</td><td>2.0</td></tr><tr><td>&quot;75%&quot;</td><td>24.08</td><td>3.55</td><td>null</td><td>null</td><td>null</td><td>null</td><td>3.0</td></tr><tr><td>&quot;max&quot;</td><td>50.81</td><td>10.0</td><td>&quot;Male&quot;</td><td>&quot;Yes&quot;</td><td>&quot;Thur&quot;</td><td>&quot;Lunch&quot;</td><td>6.0</td></tr></tbody></table></div>"
      ],
      "text/plain": [
       "shape: (9, 8)\n",
       "┌────────────┬────────────┬──────────┬────────┬────────┬──────┬────────┬──────────┐\n",
       "│ statistic  ┆ total_bill ┆ tip      ┆ sex    ┆ smoker ┆ day  ┆ time   ┆ size     │\n",
       "│ ---        ┆ ---        ┆ ---      ┆ ---    ┆ ---    ┆ ---  ┆ ---    ┆ ---      │\n",
       "│ str        ┆ f64        ┆ f64      ┆ str    ┆ str    ┆ str  ┆ str    ┆ f64      │\n",
       "╞════════════╪════════════╪══════════╪════════╪════════╪══════╪════════╪══════════╡\n",
       "│ count      ┆ 244.0      ┆ 244.0    ┆ 244    ┆ 244    ┆ 244  ┆ 244    ┆ 244.0    │\n",
       "│ null_count ┆ 0.0        ┆ 0.0      ┆ 0      ┆ 0      ┆ 0    ┆ 0      ┆ 0.0      │\n",
       "│ mean       ┆ 19.785943  ┆ 2.998279 ┆ null   ┆ null   ┆ null ┆ null   ┆ 2.569672 │\n",
       "│ std        ┆ 8.902412   ┆ 1.383638 ┆ null   ┆ null   ┆ null ┆ null   ┆ 0.9511   │\n",
       "│ min        ┆ 3.07       ┆ 1.0      ┆ Female ┆ No     ┆ Fri  ┆ Dinner ┆ 1.0      │\n",
       "│ 25%        ┆ 13.37      ┆ 2.0      ┆ null   ┆ null   ┆ null ┆ null   ┆ 2.0      │\n",
       "│ 50%        ┆ 17.81      ┆ 2.92     ┆ null   ┆ null   ┆ null ┆ null   ┆ 2.0      │\n",
       "│ 75%        ┆ 24.08      ┆ 3.55     ┆ null   ┆ null   ┆ null ┆ null   ┆ 3.0      │\n",
       "│ max        ┆ 50.81      ┆ 10.0     ┆ Male   ┆ Yes    ┆ Thur ┆ Lunch  ┆ 6.0      │\n",
       "└────────────┴────────────┴──────────┴────────┴────────┴──────┴────────┴──────────┘"
      ]
     },
     "execution_count": 30,
     "metadata": {},
     "output_type": "execute_result"
    }
   ],
   "source": [
    "dfTips.describe()"
   ]
  },
  {
   "cell_type": "code",
   "execution_count": 34,
   "metadata": {},
   "outputs": [
    {
     "data": {
      "text/plain": [
       "<Axes: xlabel='tip', ylabel='Count'>"
      ]
     },
     "execution_count": 34,
     "metadata": {},
     "output_type": "execute_result"
    },
    {
     "data": {
      "image/png": "[encoded data removed]",
      "text/plain": [
       "<Figure size 640x480 with 1 Axes>"
      ]
     },
     "metadata": {},
     "output_type": "display_data"
    }
   ],
   "source": [
    "sns.histplot(dfTips.to_pandas(), x=\"tip\")"
   ]
  },
  {
   "cell_type": "code",
   "execution_count": 36,
   "metadata": {},
   "outputs": [
    {
     "data": {
      "text/html": [
       "<div><style>\n",
       ".dataframe > thead > tr,\n",
       ".dataframe > tbody > tr {\n",
       "  text-align: right;\n",
       "  white-space: pre-wrap;\n",
       "}\n",
       "</style>\n",
       "<small>shape: (244, 8)</small><table border=\"1\" class=\"dataframe\"><thead><tr><th>total_bill</th><th>tip</th><th>sex</th><th>smoker</th><th>day</th><th>time</th><th>size</th><th>tip_class_qcut</th></tr><tr><td>f64</td><td>f64</td><td>str</td><td>str</td><td>str</td><td>str</td><td>i64</td><td>cat</td></tr></thead><tbody><tr><td>16.99</td><td>1.01</td><td>&quot;Female&quot;</td><td>&quot;No&quot;</td><td>&quot;Sun&quot;</td><td>&quot;Dinner&quot;</td><td>2</td><td>&quot;(-inf,&nbsp;2.03]&quot;</td></tr><tr><td>10.34</td><td>1.66</td><td>&quot;Male&quot;</td><td>&quot;No&quot;</td><td>&quot;Sun&quot;</td><td>&quot;Dinner&quot;</td><td>3</td><td>&quot;(-inf,&nbsp;2.03]&quot;</td></tr><tr><td>21.01</td><td>3.5</td><td>&quot;Male&quot;</td><td>&quot;No&quot;</td><td>&quot;Sun&quot;</td><td>&quot;Dinner&quot;</td><td>3</td><td>&quot;(3.25,&nbsp;inf]&quot;</td></tr><tr><td>23.68</td><td>3.31</td><td>&quot;Male&quot;</td><td>&quot;No&quot;</td><td>&quot;Sun&quot;</td><td>&quot;Dinner&quot;</td><td>2</td><td>&quot;(3.25,&nbsp;inf]&quot;</td></tr><tr><td>24.59</td><td>3.61</td><td>&quot;Female&quot;</td><td>&quot;No&quot;</td><td>&quot;Sun&quot;</td><td>&quot;Dinner&quot;</td><td>4</td><td>&quot;(3.25,&nbsp;inf]&quot;</td></tr><tr><td>&hellip;</td><td>&hellip;</td><td>&hellip;</td><td>&hellip;</td><td>&hellip;</td><td>&hellip;</td><td>&hellip;</td><td>&hellip;</td></tr><tr><td>29.03</td><td>5.92</td><td>&quot;Male&quot;</td><td>&quot;No&quot;</td><td>&quot;Sat&quot;</td><td>&quot;Dinner&quot;</td><td>3</td><td>&quot;(3.25,&nbsp;inf]&quot;</td></tr><tr><td>27.18</td><td>2.0</td><td>&quot;Female&quot;</td><td>&quot;Yes&quot;</td><td>&quot;Sat&quot;</td><td>&quot;Dinner&quot;</td><td>2</td><td>&quot;(-inf,&nbsp;2.03]&quot;</td></tr><tr><td>22.67</td><td>2.0</td><td>&quot;Male&quot;</td><td>&quot;Yes&quot;</td><td>&quot;Sat&quot;</td><td>&quot;Dinner&quot;</td><td>2</td><td>&quot;(-inf,&nbsp;2.03]&quot;</td></tr><tr><td>17.82</td><td>1.75</td><td>&quot;Male&quot;</td><td>&quot;No&quot;</td><td>&quot;Sat&quot;</td><td>&quot;Dinner&quot;</td><td>2</td><td>&quot;(-inf,&nbsp;2.03]&quot;</td></tr><tr><td>18.78</td><td>3.0</td><td>&quot;Female&quot;</td><td>&quot;No&quot;</td><td>&quot;Thur&quot;</td><td>&quot;Dinner&quot;</td><td>2</td><td>&quot;(2.03,&nbsp;3.25]&quot;</td></tr></tbody></table></div>"
      ],
      "text/plain": [
       "shape: (244, 8)\n",
       "┌────────────┬──────┬────────┬────────┬──────┬────────┬──────┬────────────────┐\n",
       "│ total_bill ┆ tip  ┆ sex    ┆ smoker ┆ day  ┆ time   ┆ size ┆ tip_class_qcut │\n",
       "│ ---        ┆ ---  ┆ ---    ┆ ---    ┆ ---  ┆ ---    ┆ ---  ┆ ---            │\n",
       "│ f64        ┆ f64  ┆ str    ┆ str    ┆ str  ┆ str    ┆ i64  ┆ cat            │\n",
       "╞════════════╪══════╪════════╪════════╪══════╪════════╪══════╪════════════════╡\n",
       "│ 16.99      ┆ 1.01 ┆ Female ┆ No     ┆ Sun  ┆ Dinner ┆ 2    ┆ (-inf, 2.03]   │\n",
       "│ 10.34      ┆ 1.66 ┆ Male   ┆ No     ┆ Sun  ┆ Dinner ┆ 3    ┆ (-inf, 2.03]   │\n",
       "│ 21.01      ┆ 3.5  ┆ Male   ┆ No     ┆ Sun  ┆ Dinner ┆ 3    ┆ (3.25, inf]    │\n",
       "│ 23.68      ┆ 3.31 ┆ Male   ┆ No     ┆ Sun  ┆ Dinner ┆ 2    ┆ (3.25, inf]    │\n",
       "│ 24.59      ┆ 3.61 ┆ Female ┆ No     ┆ Sun  ┆ Dinner ┆ 4    ┆ (3.25, inf]    │\n",
       "│ …          ┆ …    ┆ …      ┆ …      ┆ …    ┆ …      ┆ …    ┆ …              │\n",
       "│ 29.03      ┆ 5.92 ┆ Male   ┆ No     ┆ Sat  ┆ Dinner ┆ 3    ┆ (3.25, inf]    │\n",
       "│ 27.18      ┆ 2.0  ┆ Female ┆ Yes    ┆ Sat  ┆ Dinner ┆ 2    ┆ (-inf, 2.03]   │\n",
       "│ 22.67      ┆ 2.0  ┆ Male   ┆ Yes    ┆ Sat  ┆ Dinner ┆ 2    ┆ (-inf, 2.03]   │\n",
       "│ 17.82      ┆ 1.75 ┆ Male   ┆ No     ┆ Sat  ┆ Dinner ┆ 2    ┆ (-inf, 2.03]   │\n",
       "│ 18.78      ┆ 3.0  ┆ Female ┆ No     ┆ Thur ┆ Dinner ┆ 2    ┆ (2.03, 3.25]   │\n",
       "└────────────┴──────┴────────┴────────┴──────┴────────┴──────┴────────────────┘"
      ]
     },
     "execution_count": 36,
     "metadata": {},
     "output_type": "execute_result"
    }
   ],
   "source": [
    "#ponizej 2 - niski\n",
    "#2-5 - sredni\n",
    "#powyzej 5 - wysoki\n",
    "\n",
    "dfTips.with_columns(pl.when(pl.col(\"tip\") < 2).then(0)\n",
    "                    .when((pl.col(\"tip\") >= 2) & (pl.col(\"tip\") < 5)).then(1)\n",
    "                    .otherwise(2).alias(\"tip_class\"))\n",
    "\n",
    "dfTips.with_columns(pl.col(\"tip\").qcut(3).alias(\"tip_class_qcut\"))"
   ]
  }
 ],
 "metadata": {
  "kernelspec": {
   "display_name": ".venv",
   "language": "python",
   "name": "python3"
  },
  "language_info": {
   "codemirror_mode": {
    "name": "ipython",
    "version": 3
   },
   "file_extension": ".py",
   "mimetype": "text/x-python",
   "name": "python",
   "nbconvert_exporter": "python",
   "pygments_lexer": "ipython3",
   "version": "3.12.7"
  }
 },
 "nbformat": 4,
 "nbformat_minor": 2
}
